{
 "cells": [
  {
   "cell_type": "code",
   "execution_count": null,
   "id": "92d54e7d",
   "metadata": {},
   "outputs": [],
   "source": [
    "! pip install plotly\n",
    "! pip install cufflinks\n",
    "! pip install chart_studio\n",
    "! pip install matplotlib\n",
    "import matplotlib.pyplot as plt\n",
    "import numpy as np\n",
    "import pandas as pd\n",
    "import cufflinks as cf\n",
    "import plotly.offline as py\n",
    "import plotly.tools as tls\n",
    "import plotly.graph_objs as go\n",
    "from plotly.offline import iplot\n",
    "import plotly.express as px\n",
    "import math\n",
    "from sympy import *\n",
    "import random"
   ]
  },
  {
   "cell_type": "code",
   "execution_count": null,
   "id": "082120ff",
   "metadata": {},
   "outputs": [],
   "source": [
    "while True:\n",
    "    answer = int(input(\"graph equation or plot points? (1,2): \"))\n",
    "    if answer == 2:\n",
    "        x = str\n",
    "        y = str\n",
    "        b = []\n",
    "        d = []\n",
    "        leftBound = int(input('Input Leftbound: '))\n",
    "        rightBound = int(input('Input Rightbound: '))\n",
    "        amt = int(input('amount of data: '))\n",
    "        a = np.linspace(start=leftBound,stop=rightBound,num=amt)\n",
    "        for i in range(amt):\n",
    "            b.append(int(input(\"Enter X: \")))\n",
    "            d.append(int(input(\"Enter Y: \")))\n",
    "        fig = px.scatter(x=b,y=d,trendline='ols')\n",
    "        fig.show()\n",
    "        break\n",
    "    elif answer == 1:\n",
    "        x, y = symbols('x y')\n",
    "        b = []\n",
    "        xs = []\n",
    "        r = []\n",
    "        ys = []\n",
    "        leftBound = int(input(\"Input LeftBound: \"))\n",
    "        rightBound = int(input(\"Input RightBound: \"))\n",
    "        equation = str(input(\"Equation: y = \"))\n",
    "        for i in range(rightBound):\n",
    "            r = int(i)\n",
    "            xs.append(int(r))\n",
    "            b.append(equation.replace(\"x\", str(r)))\n",
    "            tempeq = equation.replace(\"x\",str(i))\n",
    "            temp = eval(tempeq)\n",
    "            ys.append(temp)\n",
    "        fig = px.scatter(x=xs,y=ys)\n",
    "        fig.show()\n",
    "        break"
   ]
  },
  {
   "cell_type": "markdown",
   "id": "77ec8db1",
   "metadata": {},
   "source": [
    "### "
   ]
  },
  {
   "cell_type": "code",
   "execution_count": null,
   "id": "04852a72",
   "metadata": {},
   "outputs": [],
   "source": []
  }
 ],
 "metadata": {
  "kernelspec": {
   "display_name": "Python 3",
   "language": "python",
   "name": "python3"
  },
  "language_info": {
   "codemirror_mode": {
    "name": "ipython",
    "version": 3
   },
   "file_extension": ".py",
   "mimetype": "text/x-python",
   "name": "python",
   "nbconvert_exporter": "python",
   "pygments_lexer": "ipython3",
   "version": "3.6.13"
  }
 },
 "nbformat": 4,
 "nbformat_minor": 5
}
