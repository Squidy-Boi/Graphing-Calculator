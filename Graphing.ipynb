{
 "cells": [
  {
   "cell_type": "code",
   "execution_count": null,
   "id": "92d54e7d",
   "metadata": {},
   "outputs": [],
   "source": [
    "! pip install plotly\n",
    "! pip install cufflinks\n",
    "! pip install chart_studio\n",
    "! pip install matplotlib\n",
    "import matplotlib.pyplot as plt\n",
    "import numpy as np\n",
    "import pandas as pd\n",
    "import cufflinks as cf\n",
    "import plotly.offline as py\n",
    "import plotly.tools as tls\n",
    "import plotly.graph_objs as go\n",
    "from plotly.offline import iplot\n",
    "import plotly.express as px\n",
    "import math\n",
    "from sympy import *\n",
    "import random"
   ]
  },
  {
   "cell_type": "code",
   "execution_count": null,
   "id": "082120ff",
   "metadata": {
    "scrolled": true
   },
   "outputs": [],
   "source": [
    "while True:\n",
    "    answer = int(input(\"graph equation or plot points? (1,2): \"))\n",
    "    if answer == 2:\n",
    "        x = str\n",
    "        y = str\n",
    "        b = []\n",
    "        d = []\n",
    "        leftBound = int(input('Input Leftbound: '))\n",
    "        rightBound = int(input('Input Rightbound: '))\n",
    "        amt = int(input('amount of data: '))\n",
    "        a = np.linspace(start=leftBound,stop=rightBound,num=amt)\n",
    "        for i in range(amt):\n",
    "            b.append(int(input(\"Enter X: \")))\n",
    "            d.append(int(input(\"Enter Y: \")))\n",
    "        fig = px.scatter(x=b,y=d,trendline='ols')\n",
    "        fig.show()\n",
    "        break\n",
    "    elif answer == 1:\n",
    "        leftBound = int(input(\"Enter LeftBound: \"))\n",
    "        rightBound = int(input(\"Enter RightBound: \"))\n",
    "        userEq = input(\"Enter Equation: y = \")\n",
    "\n",
    "        def graph(formula, x_range):  \n",
    "            x = np.array(x_range)  \n",
    "            y = eval(formula)\n",
    "            plt.plot(x, y)\n",
    "            plt.show()\n",
    "        \n",
    "        graph(userEq, range(leftBound, rightBound))\n",
    "        break"
   ]
  },
  {
   "cell_type": "code",
   "execution_count": null,
   "id": "6edb7a46",
   "metadata": {},
   "outputs": [],
   "source": []
  }
 ],
 "metadata": {
  "kernelspec": {
   "display_name": "Python 3",
   "language": "python",
   "name": "python3"
  },
  "language_info": {
   "codemirror_mode": {
    "name": "ipython",
    "version": 3
   },
   "file_extension": ".py",
   "mimetype": "text/x-python",
   "name": "python",
   "nbconvert_exporter": "python",
   "pygments_lexer": "ipython3",
   "version": "3.8.8"
  }
 },
 "nbformat": 4,
 "nbformat_minor": 5
}
