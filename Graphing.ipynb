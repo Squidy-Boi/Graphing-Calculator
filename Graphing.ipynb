{
 "cells": [
  {
   "cell_type": "code",
   "execution_count": null,
   "id": "92d54e7d",
   "metadata": {},
   "outputs": [],
   "source": [
    "! pip install plotly\n",
    "! pip install cufflinks\n",
    "! pip install chart_studio\n",
    "! pip install matplotlib\n",
    "import matplotlib.pyplot as plt\n",
    "import numpy as np\n",
    "import pandas as pd\n",
    "import cufflinks as cf\n",
    "import plotly.offline as py\n",
    "import plotly.tools as tls\n",
    "import plotly.graph_objs as go\n",
    "from plotly.offline import iplot\n",
    "import plotly.express as px\n",
    "import math\n",
    "from sympy import *\n",
    "import random"
   ]
  },
  {
   "cell_type": "code",
   "execution_count": 10,
   "id": "082120ff",
   "metadata": {
    "scrolled": true
   },
   "outputs": [
    {
     "name": "stdout",
     "output_type": "stream",
     "text": [
      "graph equation, plot points or solve an equation? (1,2,3): 3\n",
      "Enter Equation y = 1/x\n",
      "Enter x value: 0\n",
      "Undefined\n"
     ]
    }
   ],
   "source": [
    "while True:\n",
    "    while True:\n",
    "        try:\n",
    "            answer = int(input(\"graph equation, plot points or solve an equation? (1,2,3): \"))\n",
    "            if answer == 1:\n",
    "                break\n",
    "            elif answer == 2:\n",
    "                break\n",
    "            elif answer == 3:\n",
    "                break\n",
    "        except ValueError:\n",
    "            answer = 0\n",
    "            print(\"it says 1 or 2 cmon man\")\n",
    "    if answer == 2:\n",
    "        x = str\n",
    "        y = str\n",
    "        b = []\n",
    "        d = []\n",
    "        leftBound = int(input('Input Leftbound: '))\n",
    "        rightBound = int(input('Input Rightbound: '))\n",
    "        amt = int(input('amount of data: '))\n",
    "        a = np.linspace(start=leftBound,stop=rightBound,num=amt)\n",
    "        for i in range(amt):\n",
    "            b.append(int(input(\"Enter X: \")))\n",
    "            d.append(int(input(\"Enter Y: \")))\n",
    "        fig = px.scatter(x=b,y=d,trendline='ols')\n",
    "        fig.show()\n",
    "        break\n",
    "    elif answer == 1: \n",
    "        leftBound = int(input(\"Enter LeftBound: \"))\n",
    "        rightBound = int(input(\"Enter RightBound: \"))\n",
    "        userEq = input(\"Enter Equation: y = \")\n",
    "\n",
    "        def graph(formula, x_range):  \n",
    "            x = np.array(x_range)  \n",
    "            y = eval(formula)\n",
    "            plt.plot(x, y)\n",
    "            plt.show()\n",
    "        \n",
    "        graph(userEq, range(leftBound, rightBound))\n",
    "    elif answer == 3:\n",
    "        \n",
    "        userEq = input(\"Enter Equation y = \")\n",
    "        xval = input(\"Enter x value: \")\n",
    "        userEq = userEq.replace(\"x\", xval)\n",
    "        try: \n",
    "            y = eval(userEq)\n",
    "            print(\"The answer is: \" + str(y))\n",
    "            break\n",
    "        except ZeroDivisionError:\n",
    "            print(\"Undefined\")\n",
    "            break\n",
    "        "
   ]
  },
  {
   "cell_type": "markdown",
   "id": "1fa71264",
   "metadata": {},
   "source": [
    "# "
   ]
  },
  {
   "cell_type": "code",
   "execution_count": null,
   "id": "4666cc66",
   "metadata": {},
   "outputs": [],
   "source": []
  }
 ],
 "metadata": {
  "kernelspec": {
   "display_name": "Python 3",
   "language": "python",
   "name": "python3"
  },
  "language_info": {
   "codemirror_mode": {
    "name": "ipython",
    "version": 3
   },
   "file_extension": ".py",
   "mimetype": "text/x-python",
   "name": "python",
   "nbconvert_exporter": "python",
   "pygments_lexer": "ipython3",
   "version": "3.6.13"
  }
 },
 "nbformat": 4,
 "nbformat_minor": 5
}
